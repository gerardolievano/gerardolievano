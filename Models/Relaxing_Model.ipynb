{
 "cells": [
  {
   "cell_type": "markdown",
   "metadata": {},
   "source": [
    "# Relaxing Model\n",
    "\n",
    "Este es un modelo de ahorros para retiro que modela el salario con crecimiento constante para la tasa de costo de vida y los incrementos regulares para promociones. El modelo está partido en las siguientes secciones:\n",
    "\n",
    "- [**Estructura**](#Estructura): Ejecuta cualquier import y otras configuraciones.\n",
    "- [**Inputs**](#Inputs): Define los inputs del modelo.\n",
    "- [**Salarios**](#Salarios): Determina el salario cada año, considerando los aumentos en costo de vida y promociones.\n",
    "- [**Ahorros**](#Ahorros): Determina la riqueza en cada año, considerando una tasa constante de ahorros y una tasa de de   inversión.\n",
    "- [**Retiro**](#Retiro): Determina los años para retirarse desde los ahorros en el tiempo, el principal output del modelo."
   ]
  },
  {
   "cell_type": "markdown",
   "metadata": {},
   "source": [
    "## Estructura"
   ]
  },
  {
   "cell_type": "markdown",
   "metadata": {},
   "source": [
    "La configuración para los calculos posteriores se presenta acá. Importamos los módulos necesarios:"
   ]
  },
  {
   "cell_type": "code",
   "execution_count": 1,
   "metadata": {},
   "outputs": [],
   "source": [
    "# Importamos dataclasses para habilitar el objeto dataclass\n",
    "from dataclasses import dataclass\n",
    "import numpy as np\n",
    "import pandas as pd\n",
    "%matplotlib inline"
   ]
  },
  {
   "cell_type": "markdown",
   "metadata": {},
   "source": [
    "## Inputs"
   ]
  },
  {
   "cell_type": "markdown",
   "metadata": {},
   "source": [
    "Todas las entradas del modelo se definen aquí. Se construye una clase tipo dataclass para administrar los datos y se crea una instancia de la clase que contiene las entradas predeterminadas."
   ]
  },
  {
   "cell_type": "code",
   "execution_count": 2,
   "metadata": {},
   "outputs": [
    {
     "data": {
      "text/plain": [
       "ModelInputs(starting_salary=60000, promos_every_n_years=5, cost_of_living_raise=0.02, promos_raise=0.15, savings_rate=0.25, interest_rate=0.05, annual_spend_in_retirement=40000, years_in_retirement=20)"
      ]
     },
     "execution_count": 2,
     "metadata": {},
     "output_type": "execute_result"
    }
   ],
   "source": [
    "# Escribimos el decorator de sintaxis\n",
    "@dataclass\n",
    "class ModelInputs:\n",
    "    starting_salary: float= 60000\n",
    "    promos_every_n_years: int= 5\n",
    "    cost_of_living_raise: float= 0.02\n",
    "    promos_raise: float= 0.15\n",
    "    savings_rate: float= 0.25\n",
    "    interest_rate: float= 0.05\n",
    "    annual_spend_in_retirement: float= 40000 # Parte del ejercicio\n",
    "    years_in_retirement: int= 20 # Parte del ejercicio\n",
    "\n",
    "\n",
    "\n",
    "# Almacenamos la clase en una variable model_data\n",
    "model_data = ModelInputs()\n",
    "model_data  "
   ]
  },
  {
   "cell_type": "code",
   "execution_count": 3,
   "metadata": {},
   "outputs": [],
   "source": [
    "data= model_data"
   ]
  },
  {
   "cell_type": "markdown",
   "metadata": {},
   "source": [
    "## Salarios\n",
    "\n",
    "Aquí se calcula el salario de cada año. Suponemos que el salario crece a una tasa constante cada año por los aumentos del costo de vida, y luego también cada número de años, el salario aumenta en un porcentaje adicional debido a una promoción o cambio de trabajo. Con base en este supuesto, el salario evolucionaría con el tiempo con la siguiente ecuación:\n",
    "\n",
    "$$s_t = s_0 (1 + r_{cl})^n (1 + r_p)^p$$\n",
    "\n",
    "Donde:\n",
    "\n",
    "- $s_t$: Salario en el año $t$\n",
    "- $s_0$: Salario inicial (en el año 0)\n",
    "- $r_{cl}$: Costo de vida anual\n",
    "- $r_p$: Tasa de promociones\n",
    "- $p$: Número de promociones\n",
    "\n",
    "En Python, se ve así:"
   ]
  },
  {
   "cell_type": "code",
   "execution_count": 4,
   "metadata": {},
   "outputs": [],
   "source": [
    "# Creamos una función salario\n",
    "def salary_at_year(data: ModelInputs, year):\n",
    "    \"\"\"\n",
    "    Obtiene el salario en un año determinado desde el inicio del modelo en función de los aumentos del costo de vida \n",
    "    y las promociones regulares.\n",
    "    \n",
    "    \"\"\"\n",
    "    # Cada cierto número de años hay una promoción, por lo tanto, dividimos los años y quitamos los decimales para conseguir\n",
    "    # el número de promociones\n",
    "    num_promos = int(year / data.promos_every_n_years) \n",
    "    \n",
    "    # Llevamos a cabo la fórmula anteriormente mencionada\n",
    "    salario_t = data.starting_salary * (1 + data.cost_of_living_raise) ** year * (1 + data.promos_raise) ** num_promos\n",
    "    return salario_t"
   ]
  },
  {
   "cell_type": "markdown",
   "metadata": {},
   "source": [
    "Esa función obtendrá el salario en un año determinado, por lo que para obtener todos los salarios, simplemente la ejecutamos cada año. Pero no sabremos cuántos años funcionará como deberíamos hacerlo hasta que el individuo pueda jubilarse. Por lo tanto, solo mostramos los primeros salarios por ahora y luego usaremos esta función en la sección de [Ahorros](Ahorros) del modelo."
   ]
  },
  {
   "cell_type": "code",
   "execution_count": 5,
   "metadata": {},
   "outputs": [
    {
     "name": "stdout",
     "output_type": "stream",
     "text": [
      "El salario en el año 1 es $61,200.\n",
      "El salario en el año 2 es $62,424.\n",
      "El salario en el año 3 es $63,672.\n",
      "El salario en el año 4 es $64,946.\n",
      "El salario en el año 5 es $76,182.\n",
      "El salario en el año 6 es $77,705.\n"
     ]
    }
   ],
   "source": [
    "# Determinamos los salarios en los primeros 6 años\n",
    "for i in range(6):\n",
    "    year = i + 1\n",
    "    salario = salary_at_year(model_data, year)\n",
    "    print(f'El salario en el año {year} es ${salario:,.0f}.')"
   ]
  },
  {
   "cell_type": "markdown",
   "metadata": {},
   "source": [
    "Como era de esperar, con los insumos predeterminados, el salario aumenta a un 2% anual. Luego, en el año 5, hay una promoción por lo que hay un aumento mayor en el salario."
   ]
  },
  {
   "cell_type": "markdown",
   "metadata": {},
   "source": [
    "## Ahorros\n",
    "\n",
    "La parte de ahorro del modelo se ocupa de aplicar la tasa de ahorro al salario ganado para calcular el efectivo ahorrado, acumular el efectivo ahorrado a lo largo del tiempo y aplicar la tasa de inversión a la riqueza acumulada.\n",
    "\n",
    "Para calcular el efectivo ahorrado, es simplemente:\n",
    "\n",
    "$$c_t = s_t * r_s$$\n",
    "\n",
    "Donde:\n",
    "- $c_t$: Efectivo ahorrado durante el año $t$\n",
    "- $r_s$: Tasa de ahorros"
   ]
  },
  {
   "cell_type": "code",
   "execution_count": 6,
   "metadata": {},
   "outputs": [],
   "source": [
    "# Definimos la función de Efectivo ahorrado\n",
    "def cash_saved_during_year(data: ModelInputs, year):\n",
    "    \"\"\"\n",
    "    Cálculo del efectivo ahorrado dentro de un año dado, calculando primero el salario en ese año y luego aplicando el\n",
    "    tasa de ahorro.\n",
    "    \"\"\"\n",
    "    salario = salary_at_year(data, year) # Determinamos el salario en el año n\n",
    "    ahorro = salario * data.savings_rate\n",
    "    return ahorro"
   ]
  },
  {
   "cell_type": "markdown",
   "metadata": {},
   "source": [
    "Para obtener la riqueza de cada año, solo se aplica el rendimiento de la inversión al ahorro del año pasado y luego se agrega el efectivo ahorrado de este año:\n",
    "\n",
    "$$w_t = w_{t-1} (1 + r_i) + c_t$$\n",
    "\n",
    "Donde:\n",
    "- $w_t$: Ahorro en el año $t$\n",
    "- $r_i$: Tasa de inversión"
   ]
  },
  {
   "cell_type": "code",
   "execution_count": 7,
   "metadata": {},
   "outputs": [],
   "source": [
    "# Creamos la función de ahorros en el año n\n",
    "def wealth_at_year(data: ModelInputs, year, prior_savings):\n",
    "    \"\"\"\n",
    "    Calcula la riqueza acumulada para un año dado, basándose en la riqueza anterior, la tasa de inversión,\n",
    "     y efectivo ahorrado durante el año.\n",
    "    \"\"\"\n",
    "    ahorro = cash_saved_during_year(data, year)\n",
    "    savings =  prior_savings * (1 + data.interest_rate) + ahorro\n",
    "    return savings"
   ]
  },
  {
   "cell_type": "markdown",
   "metadata": {},
   "source": [
    "Nuevamente, al igual que en la sección [Salarios](Salarios), ahora podemos obtener el resultado de cada año, pero no sabemos en última instancia cuántos años tendremos para ejecutarlo. Eso se determinará en la sección de [Retiro](Retiro). Entonces, por ahora, solo muestre los primeros años de acumulación de riqueza:"
   ]
  },
  {
   "cell_type": "code",
   "execution_count": 8,
   "metadata": {},
   "outputs": [
    {
     "name": "stdout",
     "output_type": "stream",
     "text": [
      "Los ahorros en el año 1 fueron de $15,300.\n",
      "Los ahorros en el año 2 fueron de $31,671.\n",
      "Los ahorros en el año 3 fueron de $49,173.\n",
      "Los ahorros en el año 4 fueron de $67,868.\n",
      "Los ahorros en el año 5 fueron de $90,307.\n",
      "Los ahorros en el año 6 fueron de $114,248.\n"
     ]
    }
   ],
   "source": [
    "# Determinamos los ahorros\n",
    "prior_savings= 0 # Empezamos de cero\n",
    "for i in range(6):\n",
    "    year = i + 1\n",
    "    ahorros= wealth_at_year(model_data, year, prior_savings)\n",
    "    print(f'Los ahorros en el año {year} fueron de ${ahorros:,.0f}.')\n",
    "    \n",
    "    # Establecer la riqueza anterior del año próximo a la riqueza de este año\n",
    "    prior_savings = ahorros"
   ]
  },
  {
   "cell_type": "markdown",
   "metadata": {},
   "source": [
    "Con insumos predeterminados, la riqueza aumenta aproximadamente en un 25% del salario cada año, más un poco más para la inversión. Luego, en el año 6, vemos un aumento sustancialmente mayor porque el salario es sustancialmente mayor debido a la promoción. Entonces todo parece correcto."
   ]
  },
  {
   "cell_type": "markdown",
   "metadata": {},
   "source": [
    "## Retiro\n",
    "\n",
    "Esta sección del modelo reúne todo para producir el resultado final de los años hasta la jubilación. Utiliza la lógica para obtener los ahorros en cada año, que a su vez usa la lógica para obtener el salario en cada año. El ahorro de cada año se rastrea a lo largo del tiempo hasta que alcanza el efectivo deseado. Una vez que la riqueza alcanza el efectivo deseado, el individuo puede jubilarse, de modo que ese año se devuelve como años hasta la jubilación.\n"
   ]
  },
  {
   "cell_type": "markdown",
   "metadata": {},
   "source": [
    "## Calcular el efectivo deseado\n"
   ]
  },
  {
   "cell_type": "code",
   "execution_count": 9,
   "metadata": {},
   "outputs": [
    {
     "name": "stdout",
     "output_type": "stream",
     "text": [
      "Help on function pv in module numpy:\n",
      "\n",
      "pv(rate, nper, pmt, fv=0, when='end')\n",
      "    Compute the present value.\n",
      "    \n",
      "    .. deprecated:: 1.18\n",
      "    \n",
      "       `pv` is deprecated; for details, see NEP 32 [1]_.\n",
      "       Use the corresponding function in the numpy-financial library,\n",
      "       https://pypi.org/project/numpy-financial.\n",
      "    \n",
      "    Given:\n",
      "     * a future value, `fv`\n",
      "     * an interest `rate` compounded once per period, of which\n",
      "       there are\n",
      "     * `nper` total\n",
      "     * a (fixed) payment, `pmt`, paid either\n",
      "     * at the beginning (`when` = {'begin', 1}) or the end\n",
      "       (`when` = {'end', 0}) of each period\n",
      "    \n",
      "    Return:\n",
      "       the value now\n",
      "    \n",
      "    Parameters\n",
      "    ----------\n",
      "    rate : array_like\n",
      "        Rate of interest (per period)\n",
      "    nper : array_like\n",
      "        Number of compounding periods\n",
      "    pmt : array_like\n",
      "        Payment\n",
      "    fv : array_like, optional\n",
      "        Future value\n",
      "    when : {{'begin', 1}, {'end', 0}}, {string, int}, optional\n",
      "        When payments are due ('begin' (1) or 'end' (0))\n",
      "    \n",
      "    Returns\n",
      "    -------\n",
      "    out : ndarray, float\n",
      "        Present value of a series of payments or investments.\n",
      "    \n",
      "    Notes\n",
      "    -----\n",
      "    The present value is computed by solving the equation::\n",
      "    \n",
      "     fv +\n",
      "     pv*(1 + rate)**nper +\n",
      "     pmt*(1 + rate*when)/rate*((1 + rate)**nper - 1) = 0\n",
      "    \n",
      "    or, when ``rate = 0``::\n",
      "    \n",
      "     fv + pv + pmt * nper = 0\n",
      "    \n",
      "    for `pv`, which is then returned.\n",
      "    \n",
      "    References\n",
      "    ----------\n",
      "    .. [1] NumPy Enhancement Proposal (NEP) 32,\n",
      "       https://numpy.org/neps/nep-0032-remove-financial-functions.html\n",
      "    .. [2] Wheeler, D. A., E. Rathke, and R. Weir (Eds.) (2009, May).\n",
      "       Open Document Format for Office Applications (OpenDocument)v1.2,\n",
      "       Part 2: Recalculated Formula (OpenFormula) Format - Annotated Version,\n",
      "       Pre-Draft 12. Organization for the Advancement of Structured Information\n",
      "       Standards (OASIS). Billerica, MA, USA. [ODT Document].\n",
      "       Available:\n",
      "       http://www.oasis-open.org/committees/documents.php?wg_abbrev=office-formula\n",
      "       OpenDocument-formula-20090508.odt\n",
      "    \n",
      "    Examples\n",
      "    --------\n",
      "    What is the present value (e.g., the initial investment)\n",
      "    of an investment that needs to total $15692.93\n",
      "    after 10 years of saving $100 every month?  Assume the\n",
      "    interest rate is 5% (annually) compounded monthly.\n",
      "    \n",
      "    >>> np.pv(0.05/12, 10*12, -100, 15692.93)\n",
      "    -100.00067131625819\n",
      "    \n",
      "    By convention, the negative sign represents cash flow out\n",
      "    (i.e., money not available today).  Thus, to end up with\n",
      "    $15,692.93 in 10 years saving $100 a month at 5% annual\n",
      "    interest, one's initial deposit should also be $100.\n",
      "    \n",
      "    If any input is array_like, ``pv`` returns an array of equal shape.\n",
      "    Let's compare different interest rates in the example above:\n",
      "    \n",
      "    >>> a = np.array((0.05, 0.04, 0.03))/12\n",
      "    >>> np.pv(a, 10*12, -100, 15692.93)\n",
      "    array([ -100.00067132,  -649.26771385, -1273.78633713]) # may vary\n",
      "    \n",
      "    So, to end up with the same $15692.93 under the same $100 per month\n",
      "    \"savings plan,\" for annual interest rates of 4% and 3%, one would\n",
      "    need initial investments of $649.27 and $1273.79, respectively.\n",
      "\n"
     ]
    }
   ],
   "source": [
    "# Inspeccionamos la fórmula de valor presente\n",
    "help(np.pv)  # Opcional"
   ]
  },
  {
   "cell_type": "code",
   "execution_count": 10,
   "metadata": {},
   "outputs": [
    {
     "name": "stdout",
     "output_type": "stream",
     "text": [
      "Martha necesita $498,488 para el retiro.\n"
     ]
    },
    {
     "name": "stderr",
     "output_type": "stream",
     "text": [
      "<ipython-input-10-c02f704f9e98>:3: DeprecationWarning: numpy.pv is deprecated and will be removed from NumPy 1.20. Use numpy_financial.pv instead (https://pypi.org/project/numpy-financial/).\n",
      "  return np.pv(data.interest_rate, data.years_in_retirement, -data.annual_spend_in_retirement)\n"
     ]
    }
   ],
   "source": [
    "# Determinamos el valor presente de acuerdo con las condiciones del ejercicio\n",
    "def get_desired_cash(data):\n",
    "    return np.pv(data.interest_rate, data.years_in_retirement, -data.annual_spend_in_retirement)\n",
    "\n",
    "get_desired_cash(model_data)\n",
    "\n",
    "print(f'Martha necesita ${get_desired_cash(model_data):,.0f} para el retiro.')"
   ]
  },
  {
   "cell_type": "markdown",
   "metadata": {},
   "source": [
    "## Calcular años para el retiro"
   ]
  },
  {
   "cell_type": "code",
   "execution_count": 11,
   "metadata": {},
   "outputs": [],
   "source": [
    "# Creamos la función años para retiro\n",
    "def years_to_retirement(data: ModelInputs):\n",
    "    \n",
    "    # Iniciamos con cero \n",
    "    prior_savings = 0  \n",
    "    ahorros = 0\n",
    "    \n",
    "    year = 0  # Se volverá 1 en el primer ciclo del loop\n",
    "    \n",
    "    desired_cash = get_desired_cash(data)\n",
    "    \n",
    "    print('Ahorros en el tiempo:') \n",
    "    while ahorros < desired_cash:\n",
    "        year = year + 1\n",
    "        ahorros= wealth_at_year(model_data, year, prior_savings)\n",
    "        print(f'Los ahorros en el año {year} fueron ${ahorros:,.0f}.')\n",
    "\n",
    "        #  Establece el ahorro previo como la riqueza de este año\n",
    "        prior_savings = ahorros\n",
    "        \n",
    "    # Ahora hemos salido del ciclo while, por lo que la riqueza debe ser> = deseado_en efectivo. \n",
    "    # Lo que sea que estableció el año t-1 son los años necesarios para retirarse. \n",
    "    print(f'\\nRetiro:\\nTomará {year} años retirarse.') \n",
    "    return year"
   ]
  },
  {
   "cell_type": "markdown",
   "metadata": {},
   "source": [
    "Con los inputs por default:"
   ]
  },
  {
   "cell_type": "code",
   "execution_count": 12,
   "metadata": {},
   "outputs": [
    {
     "name": "stdout",
     "output_type": "stream",
     "text": [
      "Ahorros en el tiempo:\n",
      "Los ahorros en el año 1 fueron $15,300.\n",
      "Los ahorros en el año 2 fueron $31,671.\n",
      "Los ahorros en el año 3 fueron $49,173.\n",
      "Los ahorros en el año 4 fueron $67,868.\n",
      "Los ahorros en el año 5 fueron $90,307.\n",
      "Los ahorros en el año 6 fueron $114,248.\n",
      "Los ahorros en el año 7 fueron $139,775.\n",
      "Los ahorros en el año 8 fueron $166,975.\n",
      "Los ahorros en el año 9 fueron $195,939.\n",
      "Los ahorros en el año 10 fueron $229,918.\n",
      "Los ahorros en el año 11 fueron $266,080.\n",
      "Los ahorros en el año 12 fueron $304,542.\n",
      "Los ahorros en el año 13 fueron $345,431.\n",
      "Los ahorros en el año 14 fueron $388,878.\n",
      "Los ahorros en el año 15 fueron $439,025.\n",
      "Los ahorros en el año 16 fueron $492,294.\n",
      "Los ahorros en el año 17 fueron $548,853.\n",
      "Los ahorros en el año 18 fueron $608,878.\n",
      "\n",
      "Retiro:\n",
      "Tomará 18 años retirarse.\n"
     ]
    },
    {
     "name": "stderr",
     "output_type": "stream",
     "text": [
      "<ipython-input-10-c02f704f9e98>:3: DeprecationWarning: numpy.pv is deprecated and will be removed from NumPy 1.20. Use numpy_financial.pv instead (https://pypi.org/project/numpy-financial/).\n",
      "  return np.pv(data.interest_rate, data.years_in_retirement, -data.annual_spend_in_retirement)\n"
     ]
    }
   ],
   "source": [
    "años = years_to_retirement(ModelInputs(years_in_retirement= 25))"
   ]
  },
  {
   "cell_type": "code",
   "execution_count": 13,
   "metadata": {},
   "outputs": [
    {
     "name": "stdout",
     "output_type": "stream",
     "text": [
      "Ahorros en el tiempo:\n",
      "Los ahorros en el año 1 fueron $15,300.\n",
      "Los ahorros en el año 2 fueron $31,671.\n",
      "Los ahorros en el año 3 fueron $49,173.\n",
      "Los ahorros en el año 4 fueron $67,868.\n",
      "Los ahorros en el año 5 fueron $90,307.\n",
      "Los ahorros en el año 6 fueron $114,248.\n",
      "Los ahorros en el año 7 fueron $139,775.\n",
      "Los ahorros en el año 8 fueron $166,975.\n",
      "Los ahorros en el año 9 fueron $195,939.\n",
      "Los ahorros en el año 10 fueron $229,918.\n",
      "Los ahorros en el año 11 fueron $266,080.\n",
      "Los ahorros en el año 12 fueron $304,542.\n",
      "Los ahorros en el año 13 fueron $345,431.\n",
      "Los ahorros en el año 14 fueron $388,878.\n",
      "Los ahorros en el año 15 fueron $439,025.\n",
      "Los ahorros en el año 16 fueron $492,294.\n",
      "Los ahorros en el año 17 fueron $548,853.\n",
      "\n",
      "Retiro:\n",
      "Tomará 17 años retirarse.\n"
     ]
    },
    {
     "name": "stderr",
     "output_type": "stream",
     "text": [
      "<ipython-input-10-c02f704f9e98>:3: DeprecationWarning: numpy.pv is deprecated and will be removed from NumPy 1.20. Use numpy_financial.pv instead (https://pypi.org/project/numpy-financial/).\n",
      "  return np.pv(data.interest_rate, data.years_in_retirement, -data.annual_spend_in_retirement)\n"
     ]
    }
   ],
   "source": [
    "años = years_to_retirement(model_data)"
   ]
  }
 ],
 "metadata": {
  "kernelspec": {
   "display_name": "Python 3",
   "language": "python",
   "name": "python3"
  },
  "language_info": {
   "codemirror_mode": {
    "name": "ipython",
    "version": 3
   },
   "file_extension": ".py",
   "mimetype": "text/x-python",
   "name": "python",
   "nbconvert_exporter": "python",
   "pygments_lexer": "ipython3",
   "version": "3.8.5"
  }
 },
 "nbformat": 4,
 "nbformat_minor": 4
}
